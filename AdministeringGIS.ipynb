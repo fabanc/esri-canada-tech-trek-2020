{
 "cells": [
  {
   "cell_type": "markdown",
   "metadata": {},
   "source": [
    "# Setup"
   ]
  },
  {
   "cell_type": "code",
   "execution_count": null,
   "metadata": {},
   "outputs": [],
   "source": [
    "from arcgis.gis import GIS"
   ]
  },
  {
   "cell_type": "code",
   "execution_count": null,
   "metadata": {},
   "outputs": [],
   "source": [
    "agol = GIS(\"https://www.arcgis.com\", \"khibma_ncr\")"
   ]
  },
  {
   "cell_type": "markdown",
   "metadata": {},
   "source": [
    "# Portal Admin"
   ]
  },
  {
   "cell_type": "markdown",
   "metadata": {},
   "source": [
    "### Note - depending on if AGOL or On-premise, it'll return a different property"
   ]
  },
  {
   "cell_type": "markdown",
   "metadata": {},
   "source": [
    "###  What can we setup and customize?"
   ]
  },
  {
   "cell_type": "code",
   "execution_count": null,
   "metadata": {},
   "outputs": [],
   "source": [
    "# We can also review and set some high level AGOL branding\n",
    "\n",
    "desc = agol.admin.ux.description\n",
    "orgname = agol.admin.ux.name\n",
    "\n",
    "print(desc)\n",
    "print(orgname)"
   ]
  },
  {
   "cell_type": "code",
   "execution_count": null,
   "metadata": {},
   "outputs": [],
   "source": [
    "agol.admin.ux.description = \"This is now Kevin's AGOL Org\"\n",
    "print(agol.admin.ux.description)"
   ]
  },
  {
   "cell_type": "code",
   "execution_count": null,
   "metadata": {},
   "outputs": [],
   "source": [
    "agol.admin.ux.description = desc"
   ]
  },
  {
   "cell_type": "code",
   "execution_count": null,
   "metadata": {},
   "outputs": [],
   "source": [
    "# Lets check the current logo..\n",
    "agol.admin.ux.get_logo(\"D:/Technical/ArcGISPythonAPI_TechTrek/temp/\")"
   ]
  },
  {
   "cell_type": "code",
   "execution_count": null,
   "metadata": {},
   "outputs": [],
   "source": [
    "# Lets update it...\n",
    "agol.admin.ux.set_logo(\"D:/Technical/ArcGISPythonAPI_TechTrek/temp/newLogo.jpg\")"
   ]
  },
  {
   "cell_type": "code",
   "execution_count": null,
   "metadata": {},
   "outputs": [],
   "source": [
    "# Better set it back\n",
    "agol.admin.ux.set_logo(\"D:/Technical/ArcGISPythonAPI_TechTrek/temp/thumbnail.png\")"
   ]
  },
  {
   "cell_type": "markdown",
   "metadata": {},
   "source": [
    "Most of the \"admin\" things you'd do in AGOL are one time changes, like the description stuff above.\n",
    "The `arcgis.gis.admin.AGOLAdminManager` object is better used to explain your AGOL Org \n",
    "\n",
    "reference: https://developers.arcgis.com/python/api-reference/arcgis.gis.admin.html#agoladminmanager"
   ]
  },
  {
   "cell_type": "code",
   "execution_count": null,
   "metadata": {
    "scrolled": true
   },
   "outputs": [],
   "source": [
    "# Check credits being burned every month...\n",
    "agol.admin.credits.credit_usage()"
   ]
  },
  {
   "cell_type": "code",
   "execution_count": null,
   "metadata": {
    "scrolled": false
   },
   "outputs": [],
   "source": [
    "# Check a report to se credit burned by day...\n",
    "agol.admin.usage_reports.credit()"
   ]
  },
  {
   "cell_type": "code",
   "execution_count": null,
   "metadata": {},
   "outputs": [],
   "source": [
    "# What's the password policy?\n",
    "agol.admin.password_policy.policy"
   ]
  },
  {
   "cell_type": "code",
   "execution_count": null,
   "metadata": {},
   "outputs": [],
   "source": [
    "# Is tracking turned on?\n",
    "agol.admin.location_tracking.status"
   ]
  },
  {
   "cell_type": "code",
   "execution_count": null,
   "metadata": {},
   "outputs": [],
   "source": [
    "# Lets see if anyone is using it...\n",
    "lastLocation = agol.admin.location_tracking.last_known_locations_layer"
   ]
  },
  {
   "cell_type": "code",
   "execution_count": null,
   "metadata": {},
   "outputs": [],
   "source": [
    "from arcgis.features import FeatureLayer\n",
    "ll_layer = FeatureLayer(lastLocation.url)\n",
    "\n",
    "m = agol.map(\"Ottawa, Ontario\")\n",
    "m.add_layer(ll_layer)\n",
    "m"
   ]
  },
  {
   "cell_type": "markdown",
   "metadata": {},
   "source": [
    "And a few more limited things..."
   ]
  },
  {
   "cell_type": "markdown",
   "metadata": {},
   "source": [
    "## A On-Prem Portal (and federated servers) offers more options"
   ]
  },
  {
   "cell_type": "code",
   "execution_count": null,
   "metadata": {},
   "outputs": [],
   "source": [
    "# Don't need to do this\n",
    "from arcgis.gis import GIS"
   ]
  },
  {
   "cell_type": "code",
   "execution_count": null,
   "metadata": {},
   "outputs": [],
   "source": [
    "p = GIS(\"https://nogis21.esri.local/portal\", \"admin\", \"ags.admin\") \n",
    "# Note - if using a self-signed or any untrusted certificate, can suppress SSL warnings and carry on\n",
    "# verify_cert=False"
   ]
  },
  {
   "cell_type": "code",
   "execution_count": null,
   "metadata": {},
   "outputs": [],
   "source": [
    "# How many servers are in this configuration?\n",
    "servers = p.admin.servers.list()\n",
    "print(servers)"
   ]
  },
  {
   "cell_type": "code",
   "execution_count": null,
   "metadata": {},
   "outputs": [],
   "source": [
    "# What's been published to the only server?\n",
    "s1 = servers[0]\n",
    "print(s1)\n",
    "s1_services = s1.services.list()\n",
    "print(s1_services)"
   ]
  },
  {
   "cell_type": "code",
   "execution_count": null,
   "metadata": {
    "scrolled": true
   },
   "outputs": [],
   "source": [
    "# List data stores\n",
    "for d in s1.datastores.list():\n",
    "    print(d)"
   ]
  },
  {
   "cell_type": "code",
   "execution_count": null,
   "metadata": {},
   "outputs": [],
   "source": [
    "# Sever logs\n",
    "import pprint\n",
    "logs = p.admin.logs.query(start_time = 1)\n",
    "pprint.pprint(logs)"
   ]
  },
  {
   "cell_type": "code",
   "execution_count": null,
   "metadata": {},
   "outputs": [],
   "source": [
    "# Dive into SSL\n",
    "#  -properties\n",
    "#  -list\n",
    "#  -get\n",
    "#  -import\n",
    "\n",
    "p.admin.security.ssl"
   ]
  },
  {
   "cell_type": "code",
   "execution_count": null,
   "metadata": {},
   "outputs": [],
   "source": []
  },
  {
   "cell_type": "markdown",
   "metadata": {},
   "source": [
    "# Back to AGOL: Handling Users"
   ]
  },
  {
   "cell_type": "code",
   "execution_count": null,
   "metadata": {},
   "outputs": [],
   "source": [
    "usrs = agol.users.search()\n",
    "print(\"Found {} users in this org\".format(len(usrs)))"
   ]
  },
  {
   "cell_type": "code",
   "execution_count": null,
   "metadata": {},
   "outputs": [],
   "source": [
    "# Lets get a listing of all users and the last time they logged in\n",
    "for u in usrs:\n",
    "    print(\"{} last logged in: {}\".format(u.username, u.lastLogin))"
   ]
  },
  {
   "cell_type": "code",
   "execution_count": null,
   "metadata": {},
   "outputs": [],
   "source": [
    "# Dates are returned in epoch values; lets build a function to make nice dates\n",
    "import datetime\n",
    "\n",
    "def nice_date(d):\n",
    "    return datetime.datetime.fromtimestamp(d/1000).strftime('%Y-%m-%d %H:%M')"
   ]
  },
  {
   "cell_type": "code",
   "execution_count": null,
   "metadata": {},
   "outputs": [],
   "source": [
    "# Lets get a listing of all users and the last time they logged in\n",
    "for u in usrs:\n",
    "    print(\"{} last logged in: {}\".format(u.username, nice_date(u.lastLogin)))"
   ]
  },
  {
   "cell_type": "code",
   "execution_count": null,
   "metadata": {},
   "outputs": [],
   "source": [
    "# Find users who haven't logged in for \n",
    "inActivityThreshold = 30\n",
    "# 86400 = milliseconds in a day\n",
    "milliSecondThreshold = inActivityThreshold * 86400 * 1000\n",
    "today = datetime.datetime.now().timestamp()\n",
    "\n",
    "\n",
    "away_users = []\n",
    "away_users_uObj = []\n",
    "for u in usrs:\n",
    "    if u.lastLogin < ((today * 1000) - milliSecondThreshold):\n",
    "        print(u.username)\n",
    "        away_users.append(u)\n",
    "        away_users_uObj.append({\n",
    "            'user': u.username,\n",
    "            'email': u.email,\n",
    "            'role': u.role,\n",
    "            'login': nice_date(u.lastLogin)})\n"
   ]
  },
  {
   "cell_type": "markdown",
   "metadata": {},
   "source": [
    "# Delete an old, inactive user"
   ]
  },
  {
   "cell_type": "code",
   "execution_count": null,
   "metadata": {},
   "outputs": [],
   "source": [
    "for au in away_users:\n",
    "    #au.delete() -- No, I better not\n",
    "    pass"
   ]
  },
  {
   "cell_type": "markdown",
   "metadata": {},
   "source": [
    "Why dont we email them?"
   ]
  },
  {
   "cell_type": "code",
   "execution_count": null,
   "metadata": {},
   "outputs": [],
   "source": [
    "import smtplib\n",
    "import sys\n",
    "from email.mime.multipart import MIMEMultipart\n",
    "from email.mime.text import MIMEText\n",
    "\n",
    "smtpServer = 'mySMTPSERVER.com'\n",
    "sender = 'khibma@esri.ca'\n",
    "\n",
    "def sendMail(to, subject, body):\n",
    "\n",
    "    msg = MIMEMultipart()\n",
    "    msg['From'] = sender\n",
    "    msg['To'] = to \n",
    "    msg['Subject'] = subject\n",
    "\n",
    "    theBody = body\n",
    "    msg.attach( MIMEText(theBody) ) \n",
    "    \n",
    "    try:\n",
    "        smtpObj = smtplib.SMTP(smtpServer)        \n",
    "        smtpObj.sendmail(sender, to, msg.as_string())\n",
    "        smtpObj.quit\n",
    "\n",
    "    except smtplib.SMTPException as e:\n",
    "        sys.stderr.write(\"Error: unable to send email!\\n\")\n",
    "        return False\n",
    "\n",
    "    return True"
   ]
  },
  {
   "cell_type": "code",
   "execution_count": null,
   "metadata": {},
   "outputs": [],
   "source": [
    "subject = \"Are you still using AGOL \"\n",
    "body = \"You haven't logged into AGOL in sometime. If you aren't using it, could you please email us and we'll reclaim your account.\"\n",
    "\n",
    "# Send an email to each user in our object\n",
    "for au in away_users_uObj:\n",
    "    subject += au['user'] + '?'\n",
    "    body += \"\\n You last logged in {}\".format(au['login'])\n",
    "    sendMail(au['email'], subject, body)"
   ]
  },
  {
   "cell_type": "markdown",
   "metadata": {},
   "source": [
    "# Alternatively, we can handle inactive users completely in AGOL"
   ]
  },
  {
   "cell_type": "code",
   "execution_count": null,
   "metadata": {},
   "outputs": [],
   "source": [
    "# Make a group to track them\n",
    "inactv_grp = agol.groups.create(title=\"Inactive Users2\", tags=\"techtrek, 2020\")"
   ]
  },
  {
   "cell_type": "code",
   "execution_count": null,
   "metadata": {},
   "outputs": [],
   "source": [
    "for au in away_users:\n",
    "    inactv_grp.add_users(au)\n",
    "        \n",
    "print(inactv_grp.get_members())"
   ]
  },
  {
   "cell_type": "code",
   "execution_count": null,
   "metadata": {},
   "outputs": [],
   "source": [
    "# Group has a notify option we can use to send them a note\n",
    "inactv_grp.notify(users=['khibma_ncr'],\n",
    "                 subject=\"You haven't logged into AGOL in sometime\",\n",
    "                 message=\"You've been added to a group of inactive users. Please login within 7 days or your account will be deleted.\",\n",
    "                 method=\"email\")\n",
    "\n",
    "# After 7 days we can above workflow and do a diff. Remove users from the inactive group or delete them"
   ]
  },
  {
   "cell_type": "code",
   "execution_count": null,
   "metadata": {},
   "outputs": [],
   "source": []
  },
  {
   "cell_type": "markdown",
   "metadata": {},
   "source": [
    "# Get all items in a group"
   ]
  },
  {
   "cell_type": "code",
   "execution_count": null,
   "metadata": {},
   "outputs": [],
   "source": [
    "grps = agol.groups.search(\"title:Advanced Python for the Web\", outside_org = False)"
   ]
  },
  {
   "cell_type": "code",
   "execution_count": null,
   "metadata": {},
   "outputs": [],
   "source": [
    "print(grps)"
   ]
  },
  {
   "cell_type": "code",
   "execution_count": null,
   "metadata": {},
   "outputs": [],
   "source": [
    "grp = grps[0]\n",
    "for i in grp.content():\n",
    "    print(i.title)"
   ]
  },
  {
   "cell_type": "markdown",
   "metadata": {},
   "source": [
    "# Update apps in the group to HTTPS"
   ]
  },
  {
   "cell_type": "code",
   "execution_count": null,
   "metadata": {},
   "outputs": [],
   "source": [
    "# A lot of the same concept's from Fabien's Update WebMap Content --\n",
    "from arcgis.mapping import WebMap\n",
    "\n",
    "def update_to_HTTPS(grp):\n",
    "    \n",
    "    # look through all group content\n",
    "    for i in grp.content():        \n",
    "        print(\"Processing: {}\".format(i.title))\n",
    "        \n",
    "        # Only updating Web Maps\n",
    "        if i.type == 'Web Map':\n",
    "            wm = WebMap(i)\n",
    "            \n",
    "            # Look at all the layers in each webmap\n",
    "            for idx, l in enumerate(wm.layers):\n",
    "                \n",
    "                # If the URL is NOT HTTP_S_ then update it\n",
    "                if \"HTTPS\" not in l['url'].upper():\n",
    "                    print(\"Found an HTTP layer that needs to be updated: \\n   {}\".format(l.url))\n",
    "                    wm.layers[idx].url = wm.layers[idx].url.replace(\"http\", \"https\")\n",
    "                    print(\"Updated URL: {}\".format(wm.layers[idx].url))\n",
    "                    \n",
    "                wm.update()\n",
    "                    \n",
    "update_to_HTTPS(grp)    \n",
    "print(\"done\")\n",
    "            "
   ]
  },
  {
   "cell_type": "markdown",
   "metadata": {},
   "source": [
    "# Show me more Administrative tricks!"
   ]
  },
  {
   "cell_type": "markdown",
   "metadata": {},
   "source": [
    "### Ok... trusted servers, I need to add  them to my org to do local WAB development. \n",
    "### Where are those in the API?\n",
    "### They aren't here, exposed through a property or method?"
   ]
  },
  {
   "cell_type": "markdown",
   "metadata": {},
   "source": [
    "#### More on this later....  \n",
    "reference: https://github.com/fabanc/esri-canada-tech-trek-2020/blob/master/AddAuthServers.py"
   ]
  },
  {
   "cell_type": "code",
   "execution_count": null,
   "metadata": {},
   "outputs": [],
   "source": []
  }
 ],
 "metadata": {
  "kernelspec": {
   "display_name": "ArcGISPro",
   "language": "Python",
   "name": "python3"
  },
  "language_info": {
   "file_extension": ".py",
   "name": "python",
   "version": "3"
  }
 },
 "nbformat": 4,
 "nbformat_minor": 2
}
