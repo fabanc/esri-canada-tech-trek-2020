{
 "cells": [
  {
   "cell_type": "markdown",
   "metadata": {},
   "source": [
    "# Setup"
   ]
  },
  {
   "cell_type": "code",
   "execution_count": 59,
   "metadata": {},
   "outputs": [],
   "source": [
    "from arcgis.gis import GIS"
   ]
  },
  {
   "cell_type": "code",
   "execution_count": 60,
   "metadata": {},
   "outputs": [
    {
     "name": "stdout",
     "output_type": "stream",
     "text": [
      "Enter password: ········\n"
     ]
    }
   ],
   "source": [
    "agol = GIS(\"https://www.arcgis.com\", \"khibma_ncr\")"
   ]
  },
  {
   "cell_type": "markdown",
   "metadata": {},
   "source": [
    "# Portal Admin"
   ]
  },
  {
   "cell_type": "markdown",
   "metadata": {},
   "source": [
    "### Note - depending on if AGOL or On-premise, it'll return a different property"
   ]
  },
  {
   "cell_type": "markdown",
   "metadata": {},
   "source": [
    "###  What can we setup and customize?"
   ]
  },
  {
   "cell_type": "code",
   "execution_count": 12,
   "metadata": {},
   "outputs": [
    {
     "name": "stdout",
     "output_type": "stream",
     "text": [
      "<font face=\"Verdana\"><b>Welcome to Esri Canada's National Capital Regions ArcGIS Online Subscription site.</b></font>\n",
      "Esri Canada - National Capital Region\n"
     ]
    }
   ],
   "source": [
    "# We can also review and set some high level AGOL branding\n",
    "\n",
    "desc = agol.admin.ux.description\n",
    "orgname = agol.admin.ux.name\n",
    "\n",
    "print(desc)\n",
    "print(orgname)"
   ]
  },
  {
   "cell_type": "code",
   "execution_count": 13,
   "metadata": {},
   "outputs": [
    {
     "name": "stdout",
     "output_type": "stream",
     "text": [
      "This is now Kevin's AGOL Org\n"
     ]
    }
   ],
   "source": [
    "agol.admin.ux.description = \"This is now Kevin's AGOL Org\"\n",
    "print(agol.admin.ux.description)"
   ]
  },
  {
   "cell_type": "code",
   "execution_count": 14,
   "metadata": {},
   "outputs": [],
   "source": [
    "agol.admin.ux.description = desc"
   ]
  },
  {
   "cell_type": "code",
   "execution_count": 9,
   "metadata": {},
   "outputs": [
    {
     "data": {
      "text/plain": [
       "'D:/Technical/ArcGISPythonAPI_TechTrek/temp/thumbnail.png'"
      ]
     },
     "execution_count": 9,
     "metadata": {},
     "output_type": "execute_result"
    }
   ],
   "source": [
    "# Lets check the current logo..\n",
    "agol.admin.ux.get_logo(\"D:/Technical/ArcGISPythonAPI_TechTrek/temp/\")"
   ]
  },
  {
   "cell_type": "code",
   "execution_count": 10,
   "metadata": {},
   "outputs": [
    {
     "data": {
      "text/plain": [
       "True"
      ]
     },
     "execution_count": 10,
     "metadata": {},
     "output_type": "execute_result"
    }
   ],
   "source": [
    "# Lets update it...\n",
    "agol.admin.ux.set_logo(\"D:/Technical/ArcGISPythonAPI_TechTrek/temp/newLogo.jpg\")"
   ]
  },
  {
   "cell_type": "code",
   "execution_count": 11,
   "metadata": {},
   "outputs": [
    {
     "data": {
      "text/plain": [
       "True"
      ]
     },
     "execution_count": 11,
     "metadata": {},
     "output_type": "execute_result"
    }
   ],
   "source": [
    "# Better set it back\n",
    "agol.admin.ux.set_logo(\"D:/Technical/ArcGISPythonAPI_TechTrek/temp/thumbnail.png\")"
   ]
  },
  {
   "cell_type": "markdown",
   "metadata": {},
   "source": [
    "Most of the \"admin\" things you'd do in AGOL are one time changes, like the description stuff above.\n",
    "The `arcgis.gis.admin.AGOLAdminManager` object is better used to explain your AGOL Org \n",
    "\n",
    "reference: https://developers.arcgis.com/python/api-reference/arcgis.gis.admin.html#agoladminmanager"
   ]
  },
  {
   "cell_type": "code",
   "execution_count": 3,
   "metadata": {
    "scrolled": true
   },
   "outputs": [
    {
     "data": {
      "text/plain": [
       "{'features': 203.45569499999996, 'portal': 1.5787608462999998, 'scene': 0.44064678479999997, 'tiles': 0.2506589788, 'vectortiles': 0.09927690236, 'applogin': 0.0, 'apploginprovider': 0.0}"
      ]
     },
     "execution_count": 3,
     "metadata": {},
     "output_type": "execute_result"
    }
   ],
   "source": [
    "# Check credits being burned every month...\n",
    "agol.admin.credits.credit_usage()"
   ]
  },
  {
   "cell_type": "code",
   "execution_count": 4,
   "metadata": {
    "scrolled": false
   },
   "outputs": [
    {
     "data": {
      "text/html": [
       "<div>\n",
       "<style scoped>\n",
       "    .dataframe tbody tr th:only-of-type {\n",
       "        vertical-align: middle;\n",
       "    }\n",
       "\n",
       "    .dataframe tbody tr th {\n",
       "        vertical-align: top;\n",
       "    }\n",
       "\n",
       "    .dataframe thead th {\n",
       "        text-align: right;\n",
       "    }\n",
       "</style>\n",
       "<table border=\"1\" class=\"dataframe\">\n",
       "  <thead>\n",
       "    <tr style=\"text-align: right;\">\n",
       "      <th></th>\n",
       "      <th>date</th>\n",
       "      <th>credits</th>\n",
       "    </tr>\n",
       "  </thead>\n",
       "  <tbody>\n",
       "    <tr>\n",
       "      <td>0</td>\n",
       "      <td>2020-05-13 20:00:00</td>\n",
       "      <td>41.236668</td>\n",
       "    </tr>\n",
       "    <tr>\n",
       "      <td>1</td>\n",
       "      <td>2020-05-14 20:00:00</td>\n",
       "      <td>43.029568</td>\n",
       "    </tr>\n",
       "    <tr>\n",
       "      <td>2</td>\n",
       "      <td>2020-05-15 20:00:00</td>\n",
       "      <td>43.029568</td>\n",
       "    </tr>\n",
       "    <tr>\n",
       "      <td>3</td>\n",
       "      <td>2020-05-16 20:00:00</td>\n",
       "      <td>43.029570</td>\n",
       "    </tr>\n",
       "    <tr>\n",
       "      <td>4</td>\n",
       "      <td>2020-05-17 20:00:00</td>\n",
       "      <td>41.174095</td>\n",
       "    </tr>\n",
       "    <tr>\n",
       "      <td>5</td>\n",
       "      <td>2020-05-18 20:00:00</td>\n",
       "      <td>37.224766</td>\n",
       "    </tr>\n",
       "    <tr>\n",
       "      <td>6</td>\n",
       "      <td>2020-05-19 20:00:00</td>\n",
       "      <td>38.997696</td>\n",
       "    </tr>\n",
       "    <tr>\n",
       "      <td>7</td>\n",
       "      <td>2020-05-20 20:00:00</td>\n",
       "      <td>0.000000</td>\n",
       "    </tr>\n",
       "  </tbody>\n",
       "</table>\n",
       "</div>"
      ],
      "text/plain": [
       "                 date    credits\n",
       "0 2020-05-13 20:00:00  41.236668\n",
       "1 2020-05-14 20:00:00  43.029568\n",
       "2 2020-05-15 20:00:00  43.029568\n",
       "3 2020-05-16 20:00:00  43.029570\n",
       "4 2020-05-17 20:00:00  41.174095\n",
       "5 2020-05-18 20:00:00  37.224766\n",
       "6 2020-05-19 20:00:00  38.997696\n",
       "7 2020-05-20 20:00:00   0.000000"
      ]
     },
     "execution_count": 4,
     "metadata": {},
     "output_type": "execute_result"
    }
   ],
   "source": [
    "# Check a report to se credit burned by day...\n",
    "agol.admin.usage_reports.credit()"
   ]
  },
  {
   "cell_type": "code",
   "execution_count": 5,
   "metadata": {},
   "outputs": [
    {
     "data": {
      "text/plain": [
       "{\n",
       "  \"passwordPolicy\": {\n",
       "    \"type\": \"default\",\n",
       "    \"minLength\": 8,\n",
       "    \"minLetter\": 1,\n",
       "    \"minDigit\": 1,\n",
       "    \"created\": -1,\n",
       "    \"modified\": -1\n",
       "  }\n",
       "}"
      ]
     },
     "execution_count": 5,
     "metadata": {},
     "output_type": "execute_result"
    }
   ],
   "source": [
    "# What's the password policy?\n",
    "agol.admin.password_policy.policy"
   ]
  },
  {
   "cell_type": "code",
   "execution_count": 6,
   "metadata": {},
   "outputs": [
    {
     "data": {
      "text/plain": [
       "'enabled'"
      ]
     },
     "execution_count": 6,
     "metadata": {},
     "output_type": "execute_result"
    }
   ],
   "source": [
    "# Is tracking turned on?\n",
    "agol.admin.location_tracking.status"
   ]
  },
  {
   "cell_type": "code",
   "execution_count": 7,
   "metadata": {},
   "outputs": [],
   "source": [
    "# Lets see if anyone is using it...\n",
    "lastLocation = agol.admin.location_tracking.last_known_locations_layer"
   ]
  },
  {
   "cell_type": "code",
   "execution_count": 8,
   "metadata": {},
   "outputs": [
    {
     "data": {
      "application/vnd.jupyter.widget-view+json": {
       "model_id": "7deb53712efc4b33bdece8de1e9106b5",
       "version_major": 2,
       "version_minor": 0
      },
      "text/plain": [
       "MapView(layout=Layout(height='400px', width='100%'))"
      ]
     },
     "metadata": {},
     "output_type": "display_data"
    },
    {
     "data": {
      "text/html": [
       "<div class=\"map-static-img-preview-4964e4a2-3e88-4207-888f-d53ec9380352\"><img src=\"\"></img></div>"
      ],
      "text/plain": [
       "<display.HTML object>"
      ]
     },
     "metadata": {},
     "output_type": "display_data"
    }
   ],
   "source": [
    "from arcgis.features import FeatureLayer\n",
    "ll_layer = FeatureLayer(lastLocation.url)\n",
    "\n",
    "m = agol.map(\"Ottawa, Ontario\")\n",
    "m.add_layer(ll_layer)\n",
    "m"
   ]
  },
  {
   "cell_type": "markdown",
   "metadata": {},
   "source": [
    "And a few more limited things..."
   ]
  },
  {
   "cell_type": "markdown",
   "metadata": {},
   "source": [
    "## A On-Prem Portal (and federated servers) offers more options"
   ]
  },
  {
   "cell_type": "code",
   "execution_count": 4,
   "metadata": {},
   "outputs": [],
   "source": [
    "# Don't need to do this\n",
    "from arcgis.gis import GIS"
   ]
  },
  {
   "cell_type": "code",
   "execution_count": 51,
   "metadata": {},
   "outputs": [],
   "source": [
    "p = GIS(\"https://nogis21.esri.local/portal\", \"admin\", \"ags.admin\") \n",
    "# Note - if using a self-signed or any untrusted certificate, can suppress SSL warnings and carry on\n",
    "# verify_cert=False"
   ]
  },
  {
   "cell_type": "code",
   "execution_count": 6,
   "metadata": {},
   "outputs": [
    {
     "name": "stdout",
     "output_type": "stream",
     "text": [
      "[<Server at https://nogis21.esri.local:6443/arcgis/admin>]\n",
      "<Server at https://nogis21.esri.local:6443/arcgis/admin>\n"
     ]
    }
   ],
   "source": [
    "# How many servers are in this configuration?\n",
    "servers = p.admin.servers.list()\n",
    "print(servers)"
   ]
  },
  {
   "cell_type": "code",
   "execution_count": 34,
   "metadata": {},
   "outputs": [
    {
     "name": "stdout",
     "output_type": "stream",
     "text": [
      "<Server at https://nogis21.esri.local:6443/arcgis/admin>\n",
      "[<Service at https://nogis21.esri.local:6443/arcgis/admin/services/SampleWorldCities.MapServer>]\n"
     ]
    }
   ],
   "source": [
    "# What's been published to the only server?\n",
    "s1 = servers[0]\n",
    "print(s1)\n",
    "s1_services = s1.services.list()\n",
    "print(s1_services)"
   ]
  },
  {
   "cell_type": "code",
   "execution_count": 85,
   "metadata": {
    "scrolled": true
   },
   "outputs": [
    {
     "name": "stdout",
     "output_type": "stream",
     "text": [
      "   path='/enterpriseDatabases/AGSDataStore_ds_vwcp6488'\n",
      "   type='egdb'\n",
      "   id='5231f733-71ad-4f85-824b-9ba093b88a91'\n",
      "   provider='ArcGIS Data Store'\n",
      "   totalRefCount=0\n",
      "   info={'isManaged': True, 'provider': 'ArcGIS Data Store', 'dataStoreConnectionType': 'serverOnly', 'connectionString': 'ENCRYPTED_PASSWORD=00022e685942533348314a587038725859303672725a754c736b67506c49564e634e4f72794c476a5978366f7135303d2a00;SERVER=NOGIS21.ESRI.LOCAL;INSTANCE=sde:postgresql:NOGIS21.ESRI.LOCAL,9876;DBCLIENT=postgresql;DB_CONNECTION_PROPERTIES=NOGIS21.ESRI.LOCAL,9876;DATABASE=db_92679;USER=hsu_q5jpu;VERSION=sde.DEFAULT;AUTHENTICATION_MODE=DBMS', 'connectionStringHA': 'ENCRYPTED_PASSWORD=00022e68352f526e672f642b544f647658334d41674a76655351374f7a42676b53712f42422b33676144514e5453343d2a00;SERVER=ds_vwcp6488;INSTANCE=\"sde:postgresql:DSID=ds_vwcp6488\";DBCLIENT=postgresql;DATABASE=db_92679;USER=hsu_q5jpu;VERSION=sde.DEFAULT;AUTHENTICATION_MODE=DBMS', 'JDBCConnection': {'name': 'PostgreSQLonNOGIS21.ESRI.LOCAL', 'factory': 'org.apache.tomcat.jdbc.pool.DataSourceFactory', 'driverClassName': 'org.postgresql.Driver', 'url': 'jdbc:postgresql://NOGIS21.ESRI.LOCAL:9876/db_92679', 'username': 'hsu_q5jpu', 'password': '{crypt}wpdH83Xj0Q5Bn6ZS7MA8SA==', 'initialSize': 0, 'initSQL': \"SET TIME ZONE 'UTC'\", 'minIdle': 0, 'timeBetweenEvictionRunsMillis': 10000, 'minEvictableIdleTimeMillis': 20000, 'testOnBorrow': True, 'validationQuery': 'SELECT 1'}, 'machines': [{'name': 'NOGIS21.ESRI.LOCAL', 'adminURL': 'https://NOGIS21.ESRI.LOCAL:2443/arcgis/datastoreadmin/', 'dbPort': 9876, 'platform': 'Windows', 'role': 'PRIMARY'}]}\n",
      "   path='/nosqlDatabases/AGSDataStore_nosqldb_tcs_suq70ag9'\n",
      "   type='nosql'\n",
      "   id='66345707-bae0-4c7a-828e-afdb35622fa3'\n",
      "   provider='ArcGIS Data Store'\n",
      "   info={'isManaged': True, 'dsFeature': 'tileCache', 'protocol': 'http', 'port': 29080, 'secureProtocol': 'https', 'securePort': 29081, 'adminUserName': 'admin_kevvf', 'adminPassword': '{crypt}W7LPTEoEJ/ygkjL+0EOxyA==', 'managedUserName': 'usr_ntqwn', 'managedUserPassword': '{crypt}hQIz7IhikutLj2nn+kK0GQ==', 'encryptedFields': ['adminPassword', 'managedUserPassword'], 'useSSLForData': False, 'storeRelease': '10.7.1', 'architecture': 'masterSlave', 'hostname': 'NOGIS21.ESRI.LOCAL', 'unqHostname': 'NOGIS21', 'machines': [{'name': 'NOGIS21.ESRI.LOCAL', 'unqHostname': 'NOGIS21', 'role': 'PRIMARY', 'httpPort': 29080, 'httpsPort': 29081, 'dbPort': 29080, 'adminURL': 'https://NOGIS21.ESRI.LOCAL:2443/arcgis/datastoreadmin/', 'platform': 'Windows'}]}\n"
     ]
    }
   ],
   "source": [
    "# List data stores\n",
    "for d in s1.datastores.list():\n",
    "    print(d)"
   ]
  },
  {
   "cell_type": "code",
   "execution_count": 45,
   "metadata": {},
   "outputs": [
    {
     "name": "stdout",
     "output_type": "stream",
     "text": [
      "{'endTime': 1590168412285,\n",
      " 'hasMore': False,\n",
      " 'logMessages': [{'code': 217064,\n",
      "                  'elapsed': '',\n",
      "                  'machine': 'NOGIS21.ESRI.LOCAL',\n",
      "                  'message': 'The web server was found to be stopped. '\n",
      "                             'Re-starting it.',\n",
      "                  'methodName': '',\n",
      "                  'process': '9056',\n",
      "                  'requestID': '',\n",
      "                  'source': 'Portal',\n",
      "                  'thread': '1',\n",
      "                  'time': 1590170066805,\n",
      "                  'type': 'WARNING',\n",
      "                  'user': ''},\n",
      "                 {'code': 218026,\n",
      "                  'elapsed': '',\n",
      "                  'machine': 'NOGIS21.ESRI.LOCAL',\n",
      "                  'message': 'A valid connection couldnt be made to the index '\n",
      "                             'service. Verify the ports required by Portal for '\n",
      "                             'ArcGIS are open and restart the Portal for '\n",
      "                             'ArcGIS service. If the problem persists, contact '\n",
      "                             'Esri technical support (U.S.) or your '\n",
      "                             'distributor (customers outside the U.S.).',\n",
      "                  'methodName': '',\n",
      "                  'process': '9056',\n",
      "                  'requestID': '',\n",
      "                  'source': 'Portal',\n",
      "                  'thread': '1',\n",
      "                  'time': 1590169918171,\n",
      "                  'type': 'SEVERE',\n",
      "                  'user': ''},\n",
      "                 {'code': 218015,\n",
      "                  'elapsed': '',\n",
      "                  'machine': 'NOGIS21.ESRI.LOCAL',\n",
      "                  'message': 'Started Index Service.',\n",
      "                  'methodName': '',\n",
      "                  'process': '9056',\n",
      "                  'requestID': '',\n",
      "                  'source': 'Portal',\n",
      "                  'thread': '1',\n",
      "                  'time': 1590169898704,\n",
      "                  'type': 'WARNING',\n",
      "                  'user': ''},\n",
      "                 {'code': 218014,\n",
      "                  'elapsed': '',\n",
      "                  'machine': 'NOGIS21.ESRI.LOCAL',\n",
      "                  'message': 'Starting Index Service.',\n",
      "                  'methodName': '',\n",
      "                  'process': '9056',\n",
      "                  'requestID': '',\n",
      "                  'source': 'Portal',\n",
      "                  'thread': '1',\n",
      "                  'time': 1590169898703,\n",
      "                  'type': 'WARNING',\n",
      "                  'user': ''},\n",
      "                 {'code': 218015,\n",
      "                  'elapsed': '',\n",
      "                  'machine': 'NOGIS21.ESRI.LOCAL',\n",
      "                  'message': 'Started Index Service.',\n",
      "                  'methodName': '',\n",
      "                  'process': '9056',\n",
      "                  'requestID': '',\n",
      "                  'source': 'Portal',\n",
      "                  'thread': '1',\n",
      "                  'time': 1590169823068,\n",
      "                  'type': 'WARNING',\n",
      "                  'user': ''},\n",
      "                 {'code': 218014,\n",
      "                  'elapsed': '',\n",
      "                  'machine': 'NOGIS21.ESRI.LOCAL',\n",
      "                  'message': 'Starting Index Service.',\n",
      "                  'methodName': '',\n",
      "                  'process': '9056',\n",
      "                  'requestID': '',\n",
      "                  'source': 'Portal',\n",
      "                  'thread': '1',\n",
      "                  'time': 1590169823067,\n",
      "                  'type': 'WARNING',\n",
      "                  'user': ''},\n",
      "                 {'code': 218015,\n",
      "                  'elapsed': '',\n",
      "                  'machine': 'NOGIS21.ESRI.LOCAL',\n",
      "                  'message': 'Started Index Service.',\n",
      "                  'methodName': '',\n",
      "                  'process': '9056',\n",
      "                  'requestID': '',\n",
      "                  'source': 'Portal',\n",
      "                  'thread': '1',\n",
      "                  'time': 1590169746682,\n",
      "                  'type': 'WARNING',\n",
      "                  'user': ''},\n",
      "                 {'code': 218014,\n",
      "                  'elapsed': '',\n",
      "                  'machine': 'NOGIS21.ESRI.LOCAL',\n",
      "                  'message': 'Starting Index Service.',\n",
      "                  'methodName': '',\n",
      "                  'process': '9056',\n",
      "                  'requestID': '',\n",
      "                  'source': 'Portal',\n",
      "                  'thread': '1',\n",
      "                  'time': 1590169746657,\n",
      "                  'type': 'WARNING',\n",
      "                  'user': ''},\n",
      "                 {'code': 217064,\n",
      "                  'elapsed': '',\n",
      "                  'machine': 'NOGIS21.ESRI.LOCAL',\n",
      "                  'message': 'The web server was found to be stopped. '\n",
      "                             'Re-starting it.',\n",
      "                  'methodName': '',\n",
      "                  'process': '9056',\n",
      "                  'requestID': '',\n",
      "                  'source': 'Portal',\n",
      "                  'thread': '1',\n",
      "                  'time': 1590169036985,\n",
      "                  'type': 'WARNING',\n",
      "                  'user': ''},\n",
      "                 {'code': 217064,\n",
      "                  'elapsed': '',\n",
      "                  'machine': 'NOGIS21.ESRI.LOCAL',\n",
      "                  'message': 'The web server was found to be stopped. '\n",
      "                             'Re-starting it.',\n",
      "                  'methodName': '',\n",
      "                  'process': '21472',\n",
      "                  'requestID': '',\n",
      "                  'source': 'Portal',\n",
      "                  'thread': '1',\n",
      "                  'time': 1590168412285,\n",
      "                  'type': 'WARNING',\n",
      "                  'user': ''}],\n",
      " 'startTime': 1590170066805}\n"
     ]
    }
   ],
   "source": [
    "# Sever logs\n",
    "import pprint\n",
    "logs = p.admin.logs.query(start_time = 1)\n",
    "pprint.pprint(logs)"
   ]
  },
  {
   "cell_type": "code",
   "execution_count": 58,
   "metadata": {},
   "outputs": [
    {
     "data": {
      "text/plain": [
       "<SSLCertificates at https://nogis21.esri.local/portal/portaladmin/security/sslCertificates>"
      ]
     },
     "execution_count": 58,
     "metadata": {},
     "output_type": "execute_result"
    }
   ],
   "source": [
    "# Dive into SSL\n",
    "#  -properties\n",
    "#  -list\n",
    "#  -get\n",
    "#  -import\n",
    "\n",
    "p.admin.security.ssl"
   ]
  },
  {
   "cell_type": "code",
   "execution_count": null,
   "metadata": {},
   "outputs": [],
   "source": []
  },
  {
   "cell_type": "markdown",
   "metadata": {},
   "source": [
    "# Back to AGOL: Handling Users"
   ]
  },
  {
   "cell_type": "code",
   "execution_count": 61,
   "metadata": {},
   "outputs": [
    {
     "name": "stdout",
     "output_type": "stream",
     "text": [
      "Found 33 users in this org\n"
     ]
    }
   ],
   "source": [
    "usrs = agol.users.search()\n",
    "print(\"Found {} users in this org\".format(len(usrs)))"
   ]
  },
  {
   "cell_type": "code",
   "execution_count": 17,
   "metadata": {},
   "outputs": [
    {
     "name": "stdout",
     "output_type": "stream",
     "text": [
      "abaker_esrica_ncr last logged in: 1588793715000\n",
      "abodnar_ncr last logged in: 1589901252000\n",
      "afrost_ncr9 last logged in: 1586356568000\n",
      "bladdsncr last logged in: 1589982236000\n",
      "clawlor last logged in: 1590004715000\n",
      "cmaccormack_esrica_ncr last logged in: 1553105722000\n",
      "dgreen_NCR last logged in: 1585600688000\n",
      "dprice__ncr last logged in: 1590002713000\n",
      "echiasson_ncr last logged in: 1589484207000\n",
      "esrica-ncr last logged in: 1572543870000\n",
      "fancelin_ncr last logged in: 1590020585000\n",
      "ghunter_ncr9 last logged in: 1588790482000\n",
      "gplunkett_esrica_ncr last logged in: 1589995753000\n",
      "jbart_esrica_ncr last logged in: 1589729942000\n",
      "jcormier_ncr last logged in: 1590003626000\n",
      "jhughes_NCR4 last logged in: 1589976506000\n",
      "jingraham_ncr last logged in: 1554814622000\n",
      "jting_ncr last logged in: 1590011869000\n",
      "khibma_ncr last logged in: 1590020572000\n",
      "kravnas_NCR last logged in: 1506709384000\n",
      "lmccallum_esrica_ncr last logged in: 1552653289000\n",
      "mgallant_ncr last logged in: 1588774816000\n",
      "mguo_ncr last logged in: 1589910192000\n",
      "mschmidt_ncr last logged in: 1588955949000\n",
      "msdi_test last logged in: 1585747249000\n",
      "mshao_ncr last logged in: 1588862594000\n",
      "NCR_Demo last logged in: 1563304105000\n",
      "pbilodeau_NCR5 last logged in: 1589547517000\n",
      "rvirk_ncr last logged in: 1589985755000\n",
      "shotte_ncr last logged in: 1589995947000\n",
      "sseymour1 last logged in: 1584047037000\n",
      "twilson_ncr last logged in: 1586558731000\n",
      "WorldReach_ncr last logged in: 1587407578000\n"
     ]
    }
   ],
   "source": [
    "# Lets get a listing of all users and the last time they logged in\n",
    "for u in usrs:\n",
    "    print(\"{} last logged in: {}\".format(u.username, u.lastLogin))"
   ]
  },
  {
   "cell_type": "code",
   "execution_count": 62,
   "metadata": {},
   "outputs": [],
   "source": [
    "# Dates are returned in epoch values; lets build a function to make nice dates\n",
    "import datetime\n",
    "\n",
    "def nice_date(d):\n",
    "    return datetime.datetime.fromtimestamp(d/1000).strftime('%Y-%m-%d %H:%M')"
   ]
  },
  {
   "cell_type": "code",
   "execution_count": 19,
   "metadata": {},
   "outputs": [
    {
     "name": "stdout",
     "output_type": "stream",
     "text": [
      "abaker_esrica_ncr last logged in: 2020-05-06 15:35\n",
      "abodnar_ncr last logged in: 2020-05-19 11:14\n",
      "afrost_ncr9 last logged in: 2020-04-08 10:36\n",
      "bladdsncr last logged in: 2020-05-20 09:43\n",
      "clawlor last logged in: 2020-05-20 15:58\n",
      "cmaccormack_esrica_ncr last logged in: 2019-03-20 14:15\n",
      "dgreen_NCR last logged in: 2020-03-30 16:38\n",
      "dprice__ncr last logged in: 2020-05-20 15:25\n",
      "echiasson_ncr last logged in: 2020-05-14 15:23\n",
      "esrica-ncr last logged in: 2019-10-31 13:44\n",
      "fancelin_ncr last logged in: 2020-05-20 20:23\n",
      "ghunter_ncr9 last logged in: 2020-05-06 14:41\n",
      "gplunkett_esrica_ncr last logged in: 2020-05-20 13:29\n",
      "jbart_esrica_ncr last logged in: 2020-05-17 11:39\n",
      "jcormier_ncr last logged in: 2020-05-20 15:40\n",
      "jhughes_NCR4 last logged in: 2020-05-20 08:08\n",
      "jingraham_ncr last logged in: 2019-04-09 08:57\n",
      "jting_ncr last logged in: 2020-05-20 17:57\n",
      "khibma_ncr last logged in: 2020-05-20 20:22\n",
      "kravnas_NCR last logged in: 2017-09-29 14:23\n",
      "lmccallum_esrica_ncr last logged in: 2019-03-15 08:34\n",
      "mgallant_ncr last logged in: 2020-05-06 10:20\n",
      "mguo_ncr last logged in: 2020-05-19 13:43\n",
      "mschmidt_ncr last logged in: 2020-05-08 12:39\n",
      "msdi_test last logged in: 2020-04-01 09:20\n",
      "mshao_ncr last logged in: 2020-05-07 10:43\n",
      "NCR_Demo last logged in: 2019-07-16 15:08\n",
      "pbilodeau_NCR5 last logged in: 2020-05-15 08:58\n",
      "rvirk_ncr last logged in: 2020-05-20 10:42\n",
      "shotte_ncr last logged in: 2020-05-20 13:32\n",
      "sseymour1 last logged in: 2020-03-12 17:03\n",
      "twilson_ncr last logged in: 2020-04-10 18:45\n",
      "WorldReach_ncr last logged in: 2020-04-20 14:32\n"
     ]
    }
   ],
   "source": [
    "# Lets get a listing of all users and the last time they logged in\n",
    "for u in usrs:\n",
    "    print(\"{} last logged in: {}\".format(u.username, nice_date(u.lastLogin)))"
   ]
  },
  {
   "cell_type": "code",
   "execution_count": 65,
   "metadata": {},
   "outputs": [
    {
     "name": "stdout",
     "output_type": "stream",
     "text": [
      "afrost_ncr9\n",
      "cmaccormack_esrica_ncr\n",
      "dgreen_NCR\n",
      "esrica-ncr\n",
      "jingraham_ncr\n",
      "kravnas_NCR\n",
      "lmccallum_esrica_ncr\n",
      "msdi_test\n",
      "NCR_Demo\n",
      "sseymour1\n",
      "twilson_ncr\n",
      "WorldReach_ncr\n"
     ]
    }
   ],
   "source": [
    "# Find users who haven't logged in for \n",
    "inActivityThreshold = 30\n",
    "# 86400 = milliseconds in a day\n",
    "milliSecondThreshold = inActivityThreshold * 86400 * 1000\n",
    "today = datetime.datetime.now().timestamp()\n",
    "\n",
    "\n",
    "away_users = []\n",
    "away_users_uObj = []\n",
    "for u in usrs:\n",
    "    if u.lastLogin < ((today * 1000) - milliSecondThreshold):\n",
    "        print(u.username)\n",
    "        away_users.append(u)\n",
    "        away_users_uObj.append({\n",
    "            'user': u.username,\n",
    "            'email': u.email,\n",
    "            'role': u.role,\n",
    "            'login': nice_date(u.lastLogin)})\n"
   ]
  },
  {
   "cell_type": "markdown",
   "metadata": {},
   "source": [
    "# Delete an old, inactive user"
   ]
  },
  {
   "cell_type": "code",
   "execution_count": 66,
   "metadata": {},
   "outputs": [],
   "source": [
    "for au in away_users:\n",
    "    #au.delete() -- No, I better not\n",
    "    pass"
   ]
  },
  {
   "cell_type": "markdown",
   "metadata": {},
   "source": [
    "Why dont we email them?"
   ]
  },
  {
   "cell_type": "code",
   "execution_count": null,
   "metadata": {},
   "outputs": [],
   "source": [
    "import smtplib\n",
    "import sys\n",
    "from email.mime.multipart import MIMEMultipart\n",
    "from email.mime.text import MIMEText\n",
    "\n",
    "smtpServer = 'mySMTPSERVER.com'\n",
    "sender = 'khibma@esri.ca'\n",
    "\n",
    "def sendMail(to, subject, body):\n",
    "\n",
    "    msg = MIMEMultipart()\n",
    "    msg['From'] = sender\n",
    "    msg['To'] = to \n",
    "    msg['Subject'] = subject\n",
    "\n",
    "    theBody = body\n",
    "    msg.attach( MIMEText(theBody) ) \n",
    "    \n",
    "    try:\n",
    "        smtpObj = smtplib.SMTP(smtpServer)        \n",
    "        smtpObj.sendmail(sender, to, msg.as_string())\n",
    "        smtpObj.quit\n",
    "\n",
    "    except smtplib.SMTPException as e:\n",
    "        sys.stderr.write(\"Error: unable to send email!\\n\")\n",
    "        return False\n",
    "\n",
    "    return True"
   ]
  },
  {
   "cell_type": "code",
   "execution_count": null,
   "metadata": {},
   "outputs": [],
   "source": [
    "subject = \"Are you still using AGOL \"\n",
    "body = \"You haven't logged into AGOL in sometime. If you aren't using it, could you please email us and we'll reclaim your account.\"\n",
    "\n",
    "# Send an email to each user in our object\n",
    "for au in away_users_uObj:\n",
    "    subject += au['user'] + '?'\n",
    "    body += \"\\n You last logged in {}\".format(au['login'])\n",
    "    sendMail(au['email'], subject, body)"
   ]
  },
  {
   "cell_type": "markdown",
   "metadata": {},
   "source": [
    "# Alternatively, we can handle inactive users completely in AGOL"
   ]
  },
  {
   "cell_type": "code",
   "execution_count": 68,
   "metadata": {},
   "outputs": [],
   "source": [
    "# Make a group to track them\n",
    "inactv_grp = agol.groups.create(title=\"Inactive Users2\", tags=\"techtrek, 2020\")"
   ]
  },
  {
   "cell_type": "code",
   "execution_count": 70,
   "metadata": {},
   "outputs": [
    {
     "name": "stdout",
     "output_type": "stream",
     "text": [
      "{'owner': 'khibma_ncr', 'admins': ['khibma_ncr'], 'users': ['afrost_ncr9', 'cmaccormack_esrica_ncr', 'dgreen_NCR', 'esrica-ncr', 'jingraham_ncr', 'kravnas_NCR', 'lmccallum_esrica_ncr', 'msdi_test', 'NCR_Demo', 'sseymour1', 'twilson_ncr', 'WorldReach_ncr']}\n"
     ]
    }
   ],
   "source": [
    "for au in away_users:\n",
    "    inactv_grp.add_users(au)\n",
    "        \n",
    "print(inactv_grp.get_members())"
   ]
  },
  {
   "cell_type": "code",
   "execution_count": 71,
   "metadata": {},
   "outputs": [
    {
     "data": {
      "text/plain": [
       "{'success': True}"
      ]
     },
     "execution_count": 71,
     "metadata": {},
     "output_type": "execute_result"
    }
   ],
   "source": [
    "# Group has a notify option we can use to send them a note\n",
    "inactv_grp.notify(users=['khibma_ncr'],\n",
    "                 subject=\"You haven't logged into AGOL in sometime\",\n",
    "                 message=\"You've been added to a group of inactive users. Please login within 7 days or your account will be deleted.\",\n",
    "                 method=\"email\")\n",
    "\n",
    "# After 7 days we can above workflow and do a diff. Remove users from the inactive group or delete them"
   ]
  },
  {
   "cell_type": "code",
   "execution_count": null,
   "metadata": {},
   "outputs": [],
   "source": []
  },
  {
   "cell_type": "markdown",
   "metadata": {},
   "source": [
    "# Get all items in a group"
   ]
  },
  {
   "cell_type": "code",
   "execution_count": 72,
   "metadata": {},
   "outputs": [],
   "source": [
    "grps = agol.groups.search(\"title:Advanced Python for the Web\", outside_org = False)"
   ]
  },
  {
   "cell_type": "code",
   "execution_count": 73,
   "metadata": {},
   "outputs": [
    {
     "name": "stdout",
     "output_type": "stream",
     "text": [
      "[<Group title:\"Advanced Python for the Web\" owner:khibma_ncr>]\n"
     ]
    }
   ],
   "source": [
    "print(grps)"
   ]
  },
  {
   "cell_type": "code",
   "execution_count": 76,
   "metadata": {},
   "outputs": [
    {
     "name": "stdout",
     "output_type": "stream",
     "text": [
      "Awesome Map 1\n",
      "Awesome Map 2\n"
     ]
    }
   ],
   "source": [
    "grp = grps[0]\n",
    "for i in grp.content():\n",
    "    print(i.title)"
   ]
  },
  {
   "cell_type": "markdown",
   "metadata": {},
   "source": [
    "# Update apps in the group to HTTPS"
   ]
  },
  {
   "cell_type": "code",
   "execution_count": 84,
   "metadata": {},
   "outputs": [
    {
     "name": "stdout",
     "output_type": "stream",
     "text": [
      "Processing: Awesome Map 1\n",
      "Found an HTTP layer that needs to be updated: \n",
      "   https://sampleserver6.arcgisonline.com/arcgis/rest/services/OilSandsProjectBoundaries/FeatureServer/1\n",
      "Updated URL: http://sampleserver6.arcgisonline.com/arcgis/rest/services/OilSandsProjectBoundaries/FeatureServer/1\n",
      "Found an HTTP layer that needs to be updated: \n",
      "   https://sampleserver6.arcgisonline.com/arcgis/rest/services/OilSandsProjectBoundaries/FeatureServer/0\n",
      "Updated URL: http://sampleserver6.arcgisonline.com/arcgis/rest/services/OilSandsProjectBoundaries/FeatureServer/0\n",
      "Processing: Awesome Map 2\n",
      "Found an HTTP layer that needs to be updated: \n",
      "   https://services1.arcgis.com/vY6WuhLW0HkFe6Fl/arcgis/rest/services/OttawaLRT/FeatureServer/0\n",
      "Updated URL: http://services1.arcgis.com/vY6WuhLW0HkFe6Fl/arcgis/rest/services/OttawaLRT/FeatureServer/0\n",
      "Found an HTTP layer that needs to be updated: \n",
      "   https://services1.arcgis.com/vY6WuhLW0HkFe6Fl/ArcGIS/rest/services/OttawaLRT/FeatureServer/2\n",
      "Updated URL: http://services1.arcgis.com/vY6WuhLW0HkFe6Fl/ArcGIS/rest/services/OttawaLRT/FeatureServer/2\n",
      "Found an HTTP layer that needs to be updated: \n",
      "   https://services1.arcgis.com/vY6WuhLW0HkFe6Fl/ArcGIS/rest/services/OttawaLRT/FeatureServer/3\n",
      "Updated URL: http://services1.arcgis.com/vY6WuhLW0HkFe6Fl/ArcGIS/rest/services/OttawaLRT/FeatureServer/3\n",
      "Found an HTTP layer that needs to be updated: \n",
      "   https://services1.arcgis.com/vY6WuhLW0HkFe6Fl/ArcGIS/rest/services/OttawaLRT/FeatureServer/1\n",
      "Updated URL: http://services1.arcgis.com/vY6WuhLW0HkFe6Fl/ArcGIS/rest/services/OttawaLRT/FeatureServer/1\n",
      "Found an HTTP layer that needs to be updated: \n",
      "   https://services1.arcgis.com/vY6WuhLW0HkFe6Fl/arcgis/rest/services/Ottawa_Pop_2016_DA/FeatureServer/0\n",
      "Updated URL: http://services1.arcgis.com/vY6WuhLW0HkFe6Fl/arcgis/rest/services/Ottawa_Pop_2016_DA/FeatureServer/0\n",
      "done\n"
     ]
    }
   ],
   "source": [
    "# A lot of the same concept's from Fabien's Update WebMap Content --\n",
    "from arcgis.mapping import WebMap\n",
    "\n",
    "def update_to_HTTPS(grp):\n",
    "    \n",
    "    # look through all group content\n",
    "    for i in grp.content():        \n",
    "        print(\"Processing: {}\".format(i.title))\n",
    "        \n",
    "        # Only updating Web Maps\n",
    "        if i.type == 'Web Map':\n",
    "            wm = WebMap(i)\n",
    "            \n",
    "            # Look at all the layers in each webmap\n",
    "            for idx, l in enumerate(wm.layers):\n",
    "                \n",
    "                # If the URL is NOT HTTP_S_ then update it\n",
    "                if \"HTTPS\" not in l['url'].upper():\n",
    "                    print(\"Found an HTTP layer that needs to be updated: \\n   {}\".format(l.url))\n",
    "                    wm.layers[idx].url = wm.layers[idx].url.replace(\"http\", \"https\")\n",
    "                    print(\"Updated URL: {}\".format(wm.layers[idx].url))\n",
    "                    \n",
    "                wm.update()\n",
    "                    \n",
    "update_to_HTTPS(grp)    \n",
    "print(\"done\")\n",
    "            "
   ]
  },
  {
   "cell_type": "markdown",
   "metadata": {},
   "source": [
    "# Show me more Administrative tricks!"
   ]
  },
  {
   "cell_type": "markdown",
   "metadata": {},
   "source": [
    "### Ok... trusted servers, I need to add  them to my org to do local WAB development. \n",
    "### Where are those in the API?\n",
    "### They aren't here, exposed through a property or method?"
   ]
  },
  {
   "cell_type": "markdown",
   "metadata": {},
   "source": [
    "#### More on this later....  \n",
    "reference: https://github.com/fabanc/esri-canada-tech-trek-2020/blob/master/AddAuthServers.py"
   ]
  },
  {
   "cell_type": "code",
   "execution_count": null,
   "metadata": {},
   "outputs": [],
   "source": []
  }
 ],
 "metadata": {
  "kernelspec": {
   "display_name": "ArcGISPro",
   "language": "Python",
   "name": "python3"
  },
  "language_info": {
   "file_extension": ".py",
   "name": "python",
   "version": "3"
  }
 },
 "nbformat": 4,
 "nbformat_minor": 2
}
