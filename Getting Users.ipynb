{
 "cells": [
  {
   "cell_type": "markdown",
   "metadata": {},
   "source": [
    "### Import required dependencies"
   ]
  },
  {
   "cell_type": "code",
   "execution_count": 1,
   "metadata": {},
   "outputs": [],
   "source": [
    "from arcgis.gis import *\n",
    "from IPython.display import display\n",
    "from getpass import getpass"
   ]
  },
  {
   "cell_type": "markdown",
   "metadata": {},
   "source": [
    "### Set the information to connect to your portal / gis"
   ]
  },
  {
   "cell_type": "code",
   "execution_count": 3,
   "metadata": {},
   "outputs": [
    {
     "name": "stdout",
     "output_type": "stream",
     "text": [
      "········\n"
     ]
    }
   ],
   "source": [
    "url = 'https://esrica-ncr.maps.arcgis.com'\n",
    "user_name = 'fancelin_ncr'\n",
    "user_password = getpass()"
   ]
  },
  {
   "cell_type": "markdown",
   "metadata": {},
   "source": [
    "### Connect to your portal and display its information"
   ]
  },
  {
   "cell_type": "code",
   "execution_count": 4,
   "metadata": {},
   "outputs": [
    {
     "data": {
      "text/html": [
       "GIS @ <a href=\"https://esrica-ncr.maps.arcgis.com\">https://esrica-ncr.maps.arcgis.com</a>"
      ],
      "text/plain": [
       "GIS @ https://esrica-ncr.maps.arcgis.com version:8.1"
      ]
     },
     "execution_count": 4,
     "metadata": {},
     "output_type": "execute_result"
    }
   ],
   "source": [
    "gis = GIS(url=url, username=user_name, password=user_password)\n",
    "gis"
   ]
  },
  {
   "cell_type": "markdown",
   "metadata": {},
   "source": [
    "### Retrieve the current user object"
   ]
  },
  {
   "cell_type": "code",
   "execution_count": 5,
   "metadata": {},
   "outputs": [
    {
     "data": {
      "text/html": [
       "<div class=\"9item_container\" style=\"height: auto; overflow: hidden; border: 1px solid #cfcfcf; border-radius: 2px; background: #f6fafa; line-height: 1.21429em; padding: 10px;\">\n",
       "                    <div class=\"item_left\" style=\"width: 210px; float: left;\">\n",
       "                       <a href='https://esrica-ncr.maps.arcgis.com/home/user.html?user=fancelin_ncr' target='_blank'>\n",
       "                        <img src='https://esrica-ncr.maps.arcgis.com/home/js/arcgisonline/css/images/no-user-thumb.jpg' class=\"itemThumbnail\">\n",
       "                       </a>\n",
       "                    </div>\n",
       "\n",
       "                    <div class=\"item_right\" style=\"float: none; width: auto; overflow: hidden;\">\n",
       "                        <a href='https://esrica-ncr.maps.arcgis.com/home/user.html?user=fancelin_ncr' target='_blank'><b>Fabien Ancelin</b>\n",
       "                        </a>\n",
       "                        <br/><br/><b>Bio</b>: \n",
       "                        <br/><b>First Name</b>: Fabien\n",
       "                        <br/><b>Last Name</b>: Ancelin\n",
       "                        <br/><b>Username</b>: fancelin_ncr\n",
       "                        <br/><b>Joined</b>: September 23, 2014\n",
       "\n",
       "                    </div>\n",
       "                </div>\n",
       "                "
      ],
      "text/plain": [
       "<User username:fancelin_ncr>"
      ]
     },
     "execution_count": 5,
     "metadata": {},
     "output_type": "execute_result"
    }
   ],
   "source": [
    "user = gis.users.me\n",
    "user"
   ]
  },
  {
   "cell_type": "markdown",
   "metadata": {},
   "source": [
    "## Say, I want to know all the user in my portal"
   ]
  },
  {
   "cell_type": "markdown",
   "metadata": {},
   "source": [
    "### The way it works according to documentation."
   ]
  },
  {
   "cell_type": "markdown",
   "metadata": {},
   "source": [
    "#### The regular search"
   ]
  },
  {
   "cell_type": "markdown",
   "metadata": {},
   "source": [
    "https://developers.arcgis.com/python/api-reference/arcgis.gis.toc.html#arcgis.gis.UserManager.search\n",
    "\n",
    "`search(query=None, sort_field='username', sort_order='asc', max_users=100, outside_org=False, exclude_system=False, user_type=None, role=None)`\n",
    "\n",
    "| Argument | Description |\n",
    "| --------- | ------------- |\n",
    "|query|Required String. The search query.|\n",
    "|sort_field|Optional string. Valid values can be username (the default) or created.|\n",
    "|sort_order|Optional string. Valid values are asc (the default) or desc.|\n",
    "|max_users|Optional integer. The maximum number of users to be returned. The default is 100.|\n",
    "|outside_org|Optional boolean. This controls whether to search outside your organization. The default is False|\n",
    "|exclude_system|Optional boolean. Controls if built-in system accounts are returned or not. True means built-in account are not returned, where as False means that they are.|\n",
    "|user_type|\tOptional String. This parameters allows for the filtering of the users by their assigned typ|\n",
    "|role|Optional String. Specify the roleId. This parameter allows for the filting of the users based on a roleId.|\n",
    "\n"
   ]
  },
  {
   "cell_type": "markdown",
   "metadata": {},
   "source": [
    "#### The advanced search"
   ]
  },
  {
   "cell_type": "markdown",
   "metadata": {},
   "source": [
    "https://developers.arcgis.com/python/api-reference/arcgis.gis.toc.html#arcgis.gis.UserManager.advanced_search\n",
    "\n",
    "`advanced_search(query, return_count=False, max_users=10, start=1, sort_field='username', sort_order='asc', as_dict=False)`\n",
    "\n",
    "\n",
    "| Argument | Description |\n",
    "| --------- | ------------- |\n",
    "|query|Required String. The search query.|\n",
    "|return_count|Optional Boolean. If True, the number of users found by the query string is returned.\n",
    "|max_users|Optional Integer. Limits the total number of users returned in a a query. The default is 10 users. If all users is needed, -1 should be used..|\n",
    "|start|Optional Int. The starting position to search from. This is only required if paging is needed.\n",
    "|sort_field|Optional String. Responses from the search operation can be sorted on various fields. avgrating is the default.|\n",
    "|sort_order|Optional String. The sequence into which a collection of records are arranged after they have been sorted. The allowed values are: asc for ascending and desc for descending.|\n",
    "|as_dict|Required Boolean. If True, the response comes back as a dictionary.\n"
   ]
  },
  {
   "cell_type": "markdown",
   "metadata": {},
   "source": [
    "#### How to use the advanced search"
   ]
  },
  {
   "cell_type": "code",
   "execution_count": null,
   "metadata": {},
   "outputs": [],
   "source": [
    "# How to get your organization id https://esrica-ncr.maps.arcgis.com/sharing/rest/portals/self?culture=en&f=pjson\n",
    "users = gis.users.advanced_search(\n",
    "    query='orgid:vY6WuhLW0HkFe6Fl', \n",
    "    return_count=False, \n",
    "    max_users=100, \n",
    "    start=1, \n",
    "    sort_field='username', \n",
    "    sort_order='asc', \n",
    "    as_dict=False\n",
    ")\n",
    "print('Number of users with an advanced search: {}'.format(len(users['results'])))\n",
    "users['results']"
   ]
  },
  {
   "cell_type": "markdown",
   "metadata": {},
   "source": [
    " You can get your organization id from a rest endpoint. Here is an example for our NCR office:\n",
    " \n",
    " `https://esrica-ncr.maps.arcgis.com/sharing/rest/portals/self?culture=en&f=pjson`\n",
    " \n",
    " \n",
    " ```json\n",
    " \"homePageFeaturedContent\": \"id:72d70011859642819e2d84280056eb8f\",\n",
    "  \"homePageFeaturedContentCount\": 12,\n",
    "  \"id\": \"vY6WuhLW0HkFe6Fl\", // This is your organization id\n",
    "  \"isPortal\": false,\n",
    "  \"layerTemplatesGroupQuery\": \"title:\\\"Esri Layer Templates\\\" AND owner:esri_en\",\n",
    "  \"livingAtlasGroupQuery\": \"title:\\\"LAW Search\\\" AND owner:Esri_LivingAtlas\",\n",
    "  \"metadataEditable\": true,\n",
    "  \"metadataFormats\": [\n",
    "    \"iso19139\"\n",
    "  ],\n",
    " ```"
   ]
  },
  {
   "cell_type": "markdown",
   "metadata": {},
   "source": [
    "Is there a catch? Of course there is: <font color=red>advanced_search does not work at 1.7, which ships with ArcGIS Pro 2.5</font> You will need Python API for ArcGIS version 1.8 or above."
   ]
  },
  {
   "cell_type": "markdown",
   "metadata": {},
   "source": [
    "### So does it means the regular search does not support returning all users?"
   ]
  },
  {
   "cell_type": "markdown",
   "metadata": {},
   "source": [
    "Correct! Unlike advanced search, if you pass -1 as a max_users parameter value, you will get a weird behaviour. It will returns only 10 user. <font color=red>This is not even the value for max_users</font>"
   ]
  },
  {
   "cell_type": "code",
   "execution_count": 35,
   "metadata": {},
   "outputs": [
    {
     "name": "stdout",
     "output_type": "stream",
     "text": [
      "abaker_esrica_ncr\t:\torg_admin\n",
      "abodnar_ncr\t:\torg_admin\n",
      "afrost_ncr9\t:\torg_publisher\n",
      "bladdsncr\t:\torg_admin\n",
      "cgorman_esrica_ncr\t:\torg_admin\n",
      "clawlor\t:\torg_admin\n",
      "cmaccormack_esrica_ncr\t:\torg_admin\n",
      "dgreen_NCR\t:\torg_publisher\n",
      "dprice__ncr\t:\torg_admin\n",
      "echiasson_ncr\t:\torg_admin\n",
      "Total Number of User: 10\n"
     ]
    }
   ],
   "source": [
    "users = gis.users.search(max_users=-1)\n",
    "for user in users:\n",
    "    print(user.username + \"\\t:\\t\" + str(user.role))\n",
    "print('Total Number of User: {}'.format(len(users)))"
   ]
  },
  {
   "cell_type": "markdown",
   "metadata": {},
   "source": [
    "### So is there a good workaround?\n",
    "\n",
    "\n"
   ]
  },
  {
   "cell_type": "markdown",
   "metadata": {},
   "source": [
    "You can use the number of license being used.\n",
    "https://developers.arcgis.com/python/api-reference/arcgis.gis.toc.html#arcgis.gis.UserManager.counts\n"
   ]
  },
  {
   "cell_type": "code",
   "execution_count": 8,
   "metadata": {},
   "outputs": [
    {
     "data": {
      "text/plain": [
       "[{'key': 'fieldWorkerUT', 'count': 1},\n",
       " {'key': 'GISProfessionalAdvUT', 'count': 26},\n",
       " {'key': 'GISProfessionalBasicUT', 'count': 3},\n",
       " {'key': 'GISProfessionalStdUT', 'count': 1},\n",
       " {'key': 'storytellerUT', 'count': 2}]"
      ]
     },
     "execution_count": 8,
     "metadata": {},
     "output_type": "execute_result"
    }
   ],
   "source": [
    "licenses = gis.users.counts(type='user_type', as_df=False,)\n",
    "licenses"
   ]
  },
  {
   "cell_type": "markdown",
   "metadata": {},
   "source": [
    "Then sum the information obtained from there."
   ]
  },
  {
   "cell_type": "code",
   "execution_count": 9,
   "metadata": {},
   "outputs": [
    {
     "data": {
      "text/plain": [
       "33"
      ]
     },
     "execution_count": 9,
     "metadata": {},
     "output_type": "execute_result"
    }
   ],
   "source": [
    "users_count = sum([value['count'] for value in licenses])\n",
    "users_count"
   ]
  },
  {
   "cell_type": "markdown",
   "metadata": {},
   "source": [
    "That matches your number of matched used"
   ]
  },
  {
   "cell_type": "code",
   "execution_count": 31,
   "metadata": {},
   "outputs": [
    {
     "name": "stdout",
     "output_type": "stream",
     "text": [
      "Number of users with a regular search: 33\n"
     ]
    }
   ],
   "source": [
    "users = gis.users.search(max_users=150, exclude_system=True)\n",
    "print('Number of users with a regular search: {}'.format(len(users)))"
   ]
  },
  {
   "cell_type": "markdown",
   "metadata": {},
   "source": [
    "####  What if you want to abolutely get all the users information"
   ]
  },
  {
   "cell_type": "markdown",
   "metadata": {},
   "source": [
    "If you want to guarantee that your retriving all the users, you can make sure you check that the maximum number of users returned is never equals to the maximum user you specified."
   ]
  },
  {
   "cell_type": "code",
   "execution_count": 39,
   "metadata": {},
   "outputs": [
    {
     "name": "stdout",
     "output_type": "stream",
     "text": [
      "abaker_esrica_ncr\t:\torg_admin\n",
      "abodnar_ncr\t:\torg_admin\n",
      "afrost_ncr9\t:\torg_publisher\n",
      "bladdsncr\t:\torg_admin\n",
      "clawlor\t:\torg_admin\n",
      "cmaccormack_esrica_ncr\t:\torg_admin\n",
      "dgreen_NCR\t:\torg_publisher\n",
      "dprice__ncr\t:\torg_admin\n",
      "echiasson_ncr\t:\torg_admin\n",
      "esrica-ncr\t:\torg_admin\n",
      "fancelin_ncr\t:\torg_admin\n",
      "ghunter_ncr9\t:\torg_admin\n",
      "gplunkett_esrica_ncr\t:\torg_admin\n",
      "jbart_esrica_ncr\t:\torg_admin\n",
      "jcormier_ncr\t:\torg_admin\n",
      "jhughes_NCR4\t:\torg_admin\n",
      "jingraham_ncr\t:\torg_admin\n",
      "jting_ncr\t:\torg_admin\n",
      "khibma_ncr\t:\torg_admin\n",
      "kravnas_NCR\t:\torg_publisher\n",
      "lmccallum_esrica_ncr\t:\torg_admin\n",
      "mgallant_ncr\t:\torg_admin\n",
      "mguo_ncr\t:\torg_admin\n",
      "mschmidt_ncr\t:\torg_admin\n",
      "msdi_test\t:\tiAAAAAAAAAAAAAAA\n",
      "mshao_ncr\t:\torg_admin\n",
      "NCR_Demo\t:\tiAAAAAAAAAAAAAAA\n",
      "pbilodeau_NCR5\t:\torg_publisher\n",
      "rvirk_ncr\t:\torg_admin\n",
      "shotte_ncr\t:\torg_admin\n",
      "sseymour1\t:\torg_publisher\n",
      "twilson_ncr\t:\torg_admin\n",
      "WorldReach_ncr\t:\tt0Jx3qpYQxkJF1Kg\n",
      "Total Number of User: 33\n"
     ]
    }
   ],
   "source": [
    "def get_users(max_users=5):\n",
    "    users = gis.users.search(max_users=max_users)\n",
    "    if len(users) == max_users:\n",
    "        return get_users(max_users=max_users * 2)\n",
    "    return users\n",
    "\n",
    "users = get_users(max_users=5)\n",
    "for user in users:\n",
    "    print(user.username + \"\\t:\\t\" + str(user.role))\n",
    "print('Total Number of User: {}'.format(len(users)))"
   ]
  },
  {
   "cell_type": "code",
   "execution_count": null,
   "metadata": {},
   "outputs": [],
   "source": []
  }
 ],
 "metadata": {
  "kernelspec": {
   "display_name": "Python 3",
   "language": "python",
   "name": "python3"
  },
  "language_info": {
   "codemirror_mode": {
    "name": "ipython",
    "version": 3
   },
   "file_extension": ".py",
   "mimetype": "text/x-python",
   "name": "python",
   "nbconvert_exporter": "python",
   "pygments_lexer": "ipython3",
   "version": "3.6.9"
  }
 },
 "nbformat": 4,
 "nbformat_minor": 2
}
