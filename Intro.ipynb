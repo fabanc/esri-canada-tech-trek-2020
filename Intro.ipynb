{
 "cells": [
  {
   "cell_type": "markdown",
   "metadata": {},
   "source": [
    "# Before we begin"
   ]
  },
  {
   "cell_type": "markdown",
   "metadata": {},
   "source": [
    "## Notebooks vs. Script vs. Python Window vs....."
   ]
  },
  {
   "cell_type": "markdown",
   "metadata": {},
   "source": [
    "Notebooks are a great teaching tool. Write some code, execute it, see response\n",
    "\n",
    "Maybe not so great for delivering production code to a client."
   ]
  },
  {
   "cell_type": "markdown",
   "metadata": {},
   "source": [
    "### Notebooks where?"
   ]
  },
  {
   "cell_type": "markdown",
   "metadata": {},
   "source": [
    " 1. arcgis.com (notebooks.esri.com)\n",
    " 2. within ArcGIS Pro\n",
    " 3. launch from your Conda environment\n",
    " 4. Notebook server installed with ArcGIS Enterprise"
   ]
  },
  {
   "cell_type": "markdown",
   "metadata": {},
   "source": [
    "### ArcGIS Python API where?"
   ]
  },
  {
   "cell_type": "markdown",
   "metadata": {},
   "source": [
    "All same places above. AND use it in the Python Window (ArcGIS Pro) or your standalone scripts."
   ]
  },
  {
   "cell_type": "markdown",
   "metadata": {},
   "source": [
    "## Quick shortcut keys "
   ]
  },
  {
   "cell_type": "markdown",
   "metadata": {},
   "source": [
    "How are these guys __coding__ without the mouse??\n",
    "\n",
    "Edit Cell: **Enter**\n",
    "\n",
    "Exit edit: **ESC**\n",
    "\n",
    "Move to cells (not in edit mode): **arrow keys**\n",
    "\n",
    "Code tip: **Shift + TAB**\n",
    "\n",
    "Run Cell:  **Ctrl + Enter**\n",
    "\n",
    "Change to Code cell: **Y**\n",
    "\n",
    "Change to Markdown cell:  **M**\n",
    "\n",
    "Change to Heading cell: **1-6**\n",
    "\n",
    "Insert Above: **A**\n",
    "\n",
    "Insert Below: **B**\n"
   ]
  },
  {
   "cell_type": "code",
   "execution_count": null,
   "metadata": {},
   "outputs": [],
   "source": []
  },
  {
   "cell_type": "markdown",
   "metadata": {},
   "source": [
    "# Authentication"
   ]
  },
  {
   "cell_type": "code",
   "execution_count": 1,
   "metadata": {},
   "outputs": [],
   "source": [
    "from arcgis.gis import GIS"
   ]
  },
  {
   "cell_type": "code",
   "execution_count": 2,
   "metadata": {},
   "outputs": [],
   "source": [
    "anonymous = GIS(\"https://www.arcgis.com\")"
   ]
  },
  {
   "cell_type": "code",
   "execution_count": 9,
   "metadata": {},
   "outputs": [
    {
     "name": "stdout",
     "output_type": "stream",
     "text": [
      "None\n"
     ]
    }
   ],
   "source": [
    "print(anonymous.users.me)"
   ]
  },
  {
   "cell_type": "code",
   "execution_count": 10,
   "metadata": {},
   "outputs": [
    {
     "name": "stdout",
     "output_type": "stream",
     "text": [
      "Enter password: ········\n"
     ]
    }
   ],
   "source": [
    "authenticated = GIS(\"https://www.arcgis.com\", \"khibma_ncr\")"
   ]
  },
  {
   "cell_type": "code",
   "execution_count": 11,
   "metadata": {},
   "outputs": [
    {
     "data": {
      "text/html": [
       "<div class=\"9item_container\" style=\"height: auto; overflow: hidden; border: 1px solid #cfcfcf; border-radius: 2px; background: #f6fafa; line-height: 1.21429em; padding: 10px;\">\n",
       "                    <div class=\"item_left\" style=\"width: 210px; float: left;\">\n",
       "                       <a href='https://esrica-ncr.maps.arcgis.com/home/user.html?user=khibma_ncr' target='_blank'>\n",
       "                        <img src='https://esrica-ncr.maps.arcgis.com/home/js/arcgisonline/css/images/no-user-thumb.jpg' class=\"itemThumbnail\">\n",
       "                       </a>\n",
       "                    </div>\n",
       "\n",
       "                    <div class=\"item_right\" style=\"float: none; width: auto; overflow: hidden;\">\n",
       "                        <a href='https://esrica-ncr.maps.arcgis.com/home/user.html?user=khibma_ncr' target='_blank'><b>Kevin Hibma</b>\n",
       "                        </a>\n",
       "                        <br/><br/><b>Bio</b>: Consultant @ Esri Canada\n",
       "                        <br/><b>First Name</b>: Kevin\n",
       "                        <br/><b>Last Name</b>: Hibma\n",
       "                        <br/><b>Username</b>: khibma_ncr\n",
       "                        <br/><b>Joined</b>: October 02, 2017\n",
       "\n",
       "                    </div>\n",
       "                </div>\n",
       "                "
      ],
      "text/plain": [
       "<User username:khibma_ncr>"
      ]
     },
     "execution_count": 11,
     "metadata": {},
     "output_type": "execute_result"
    }
   ],
   "source": [
    "authenticated.users.me"
   ]
  },
  {
   "cell_type": "code",
   "execution_count": 12,
   "metadata": {},
   "outputs": [
    {
     "data": {
      "text/plain": [
       "'org_admin'"
      ]
     },
     "execution_count": 12,
     "metadata": {},
     "output_type": "execute_result"
    }
   ],
   "source": [
    "authenticated.users.me.role"
   ]
  }
 ],
 "metadata": {
  "kernelspec": {
   "display_name": "ArcGISPro",
   "language": "Python",
   "name": "python3"
  },
  "language_info": {
   "file_extension": ".py",
   "name": "python",
   "version": "3"
  }
 },
 "nbformat": 4,
 "nbformat_minor": 2
}
